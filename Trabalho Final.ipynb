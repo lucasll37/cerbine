{
 "cells": [
  {
   "cell_type": "code",
   "execution_count": 1,
   "id": "0993d562",
   "metadata": {},
   "outputs": [],
   "source": [
    "import numpy as np\n",
    "import pandas as pd\n",
    "import matplotlib.pyplot as plt\n",
    "import random"
   ]
  },
  {
   "cell_type": "markdown",
   "id": "daefda3d",
   "metadata": {},
   "source": [
    "# Buffer Generator"
   ]
  },
  {
   "cell_type": "code",
   "execution_count": 2,
   "id": "cec4f1c8",
   "metadata": {},
   "outputs": [],
   "source": [
    "def buildStableSignal(fisrtSignal, pri, variance = 1, thresholdBuffer = 10000):\n",
    "    buffer = list()\n",
    "    newPulse = fisrtSignal\n",
    "    count = 0\n",
    "    \n",
    "    while newPulse < thresholdBuffer:\n",
    "        buffer.append(newPulse)\n",
    "        count += 1\n",
    "        newPulse = fisrtSignal + count * pri\n",
    "                \n",
    "    deviationBuffer = np.random.normal(0, 1, len(buffer)) * variance\n",
    "    deviationBuffer[0] = 0\n",
    "    \n",
    "    info = (fisrtSignal, pri, deviationBuffer.std())\n",
    "    \n",
    "    deviationBuffer = [round(num) for num in deviationBuffer]\n",
    "    buffer = np.add(buffer, deviationBuffer).tolist()\n",
    "        \n",
    "    return buffer, info"
   ]
  },
  {
   "cell_type": "code",
   "execution_count": 3,
   "id": "4e1187f4",
   "metadata": {},
   "outputs": [],
   "source": [
    "# Use case \n",
    "# stableSignalBuffer, info = buildStableSignal(15, 30)"
   ]
  },
  {
   "cell_type": "code",
   "execution_count": 4,
   "id": "0698da41",
   "metadata": {},
   "outputs": [],
   "source": [
    "def buildStaggerSignal(fisrtSignal, pris, variance = 1, thresholdBuffer = 10000):\n",
    "    buffer = list()\n",
    "    newPulse = fisrtSignal\n",
    "    count = 0\n",
    "    \n",
    "    while newPulse < thresholdBuffer:\n",
    "        buffer.append(newPulse)\n",
    "        newPulse += pris[count%len(pris)]\n",
    "        count += 1\n",
    "        \n",
    "    deviationBuffer = np.random.normal(0, 1, len(buffer)) * variance\n",
    "    deviationBuffer[0] = 0\n",
    "    \n",
    "    info = (fisrtSignal, pris, deviationBuffer.std())\n",
    "    \n",
    "    deviationBuffer = [round(num) for num in deviationBuffer]\n",
    "        \n",
    "    return np.add(buffer, deviationBuffer).tolist(), info"
   ]
  },
  {
   "cell_type": "code",
   "execution_count": 5,
   "id": "10ac1bb2",
   "metadata": {},
   "outputs": [],
   "source": [
    "# Use case \n",
    "# staggerSignalBuffer, info = buildStaggerSignal(15, [30, 80])"
   ]
  },
  {
   "cell_type": "code",
   "execution_count": 6,
   "id": "8d949f57",
   "metadata": {},
   "outputs": [],
   "source": [
    "def buildJitterSignal(fisrtSignal, pri, jitter, variance = 1, thresholdBuffer = 10000):\n",
    "    buffer = list()\n",
    "    newPulse = fisrtSignal\n",
    "    count = 0\n",
    "    \n",
    "    while newPulse < thresholdBuffer:\n",
    "        buffer.append(newPulse)\n",
    "        count += 1\n",
    "        newPulse = fisrtSignal + count * pri\n",
    "                \n",
    "    deviationBuffer = np.random.normal(0, 1, len(buffer)) * variance\n",
    "    deviationBuffer[0] = 0\n",
    "    \n",
    "    jitterBuffer = np.random.uniform(-1, 1, len(buffer)) * (jitter/100) * pri\n",
    "    jitterBuffer[0] = 0\n",
    "    deviationAndJitterBuffer = np.add(deviationBuffer, jitterBuffer)\n",
    "    \n",
    "    info = (fisrtSignal, pri, deviationAndJitterBuffer.std())\n",
    "    \n",
    "    deviationAndJitterBuffer = [round(num) for num in deviationAndJitterBuffer]\n",
    "    buffer = np.add(buffer, deviationAndJitterBuffer).tolist()\n",
    "        \n",
    "    return buffer, info"
   ]
  },
  {
   "cell_type": "code",
   "execution_count": 7,
   "id": "33c790aa",
   "metadata": {},
   "outputs": [],
   "source": [
    "# Use case \n",
    "# jitterSignalBuffer, info = buildJitterSignal(50, 100, 8)"
   ]
  },
  {
   "cell_type": "code",
   "execution_count": 8,
   "id": "1b660c7f",
   "metadata": {},
   "outputs": [],
   "source": [
    "def buildBuffer(stables, staggers, jitters):\n",
    "    buffer = list()\n",
    "    info = dict()\n",
    "    \n",
    "    info['stable'] = list()\n",
    "    info['stagger'] = list()\n",
    "    info['jitter'] = list()\n",
    "    \n",
    "    for stable in stables:\n",
    "        tempBuffer, tempInfo = buildStableSignal(stable[0], stable[1], stable[2], stable[3]) ####\n",
    "        buffer.extend(tempBuffer)\n",
    "        info['stable'].append(tempInfo)\n",
    "        \n",
    "        \n",
    "    for stagger in staggers:\n",
    "        tempBuffer, tempInfo = buildStaggerSignal(stagger[0], stagger[1], stagger[2], stagger[3]) ####\n",
    "        buffer.extend(tempBuffer)\n",
    "        info['stagger'].append(tempInfo)\n",
    "    \n",
    "    for jitter in jitters:\n",
    "        tempBuffer, tempInfo = buildJitterSignal(jitter[0], jitter[1], jitter[2], jitter[3], jitter[4]) ####\n",
    "        buffer.extend(tempBuffer)\n",
    "        info['jitter'].append(tempInfo)\n",
    "    \n",
    "    \n",
    "    buffer.sort()\n",
    "    \n",
    "    return buffer, info"
   ]
  },
  {
   "cell_type": "code",
   "execution_count": 9,
   "id": "a4fa7295",
   "metadata": {},
   "outputs": [],
   "source": [
    "def plot_grafico(valores, barras_vermelhas=[], title='Buffer'):\n",
    "    if isinstance(title, int):\n",
    "        title = f\" PRI: {title}\"\n",
    "    \n",
    "    plt.figure(figsize=(15, 2))\n",
    "    \n",
    "    # Definindo as cores de cada barra\n",
    "    cores = ['red' if val in barras_vermelhas else 'blue' for val in valores]\n",
    "    \n",
    "    altura_fixa = 5\n",
    "    plt.bar(valores, [altura_fixa] * len(valores), width=10, align='center', color=cores)\n",
    "    \n",
    "    plt.xticks(valores, rotation=90, fontsize=13)\n",
    "    plt.ylim(0, 10)\n",
    "    plt.yticks([])\n",
    "    plt.grid(False)\n",
    "    plt.tight_layout()\n",
    "    plt.title(title, fontsize=13)\n",
    "    plt.show()\n",
    "    plt.close()"
   ]
  },
  {
   "cell_type": "markdown",
   "id": "bf8256d4",
   "metadata": {},
   "source": [
    "# Solver"
   ]
  },
  {
   "cell_type": "markdown",
   "id": "cb6c21e2",
   "metadata": {},
   "source": [
    "## PRIL"
   ]
  },
  {
   "cell_type": "code",
   "execution_count": 115,
   "id": "7780520c",
   "metadata": {},
   "outputs": [],
   "source": [
    "stableWindowWidth = 4"
   ]
  },
  {
   "cell_type": "code",
   "execution_count": 116,
   "id": "fbd764f7",
   "metadata": {},
   "outputs": [
    {
     "data": {
      "text/html": [
       "<div>\n",
       "<style scoped>\n",
       "    .dataframe tbody tr th:only-of-type {\n",
       "        vertical-align: middle;\n",
       "    }\n",
       "\n",
       "    .dataframe tbody tr th {\n",
       "        vertical-align: top;\n",
       "    }\n",
       "\n",
       "    .dataframe thead th {\n",
       "        text-align: right;\n",
       "    }\n",
       "</style>\n",
       "<table border=\"1\" class=\"dataframe\">\n",
       "  <thead>\n",
       "    <tr style=\"text-align: right;\">\n",
       "      <th></th>\n",
       "      <th>lower bound</th>\n",
       "      <th>upper bound</th>\n",
       "      <th>window</th>\n",
       "    </tr>\n",
       "  </thead>\n",
       "  <tbody>\n",
       "    <tr>\n",
       "      <th>0</th>\n",
       "      <td>10</td>\n",
       "      <td>18</td>\n",
       "      <td>2</td>\n",
       "    </tr>\n",
       "    <tr>\n",
       "      <th>1</th>\n",
       "      <td>20</td>\n",
       "      <td>36</td>\n",
       "      <td>2</td>\n",
       "    </tr>\n",
       "    <tr>\n",
       "      <th>2</th>\n",
       "      <td>20</td>\n",
       "      <td>36</td>\n",
       "      <td>4</td>\n",
       "    </tr>\n",
       "    <tr>\n",
       "      <th>3</th>\n",
       "      <td>38</td>\n",
       "      <td>70</td>\n",
       "      <td>2</td>\n",
       "    </tr>\n",
       "    <tr>\n",
       "      <th>4</th>\n",
       "      <td>38</td>\n",
       "      <td>70</td>\n",
       "      <td>8</td>\n",
       "    </tr>\n",
       "    <tr>\n",
       "      <th>5</th>\n",
       "      <td>72</td>\n",
       "      <td>136</td>\n",
       "      <td>3</td>\n",
       "    </tr>\n",
       "    <tr>\n",
       "      <th>6</th>\n",
       "      <td>72</td>\n",
       "      <td>136</td>\n",
       "      <td>16</td>\n",
       "    </tr>\n",
       "    <tr>\n",
       "      <th>7</th>\n",
       "      <td>139</td>\n",
       "      <td>267</td>\n",
       "      <td>3</td>\n",
       "    </tr>\n",
       "    <tr>\n",
       "      <th>8</th>\n",
       "      <td>139</td>\n",
       "      <td>267</td>\n",
       "      <td>32</td>\n",
       "    </tr>\n",
       "    <tr>\n",
       "      <th>9</th>\n",
       "      <td>269</td>\n",
       "      <td>525</td>\n",
       "      <td>3</td>\n",
       "    </tr>\n",
       "    <tr>\n",
       "      <th>10</th>\n",
       "      <td>269</td>\n",
       "      <td>525</td>\n",
       "      <td>64</td>\n",
       "    </tr>\n",
       "    <tr>\n",
       "      <th>11</th>\n",
       "      <td>528</td>\n",
       "      <td>1040</td>\n",
       "      <td>4</td>\n",
       "    </tr>\n",
       "    <tr>\n",
       "      <th>12</th>\n",
       "      <td>528</td>\n",
       "      <td>1040</td>\n",
       "      <td>128</td>\n",
       "    </tr>\n",
       "  </tbody>\n",
       "</table>\n",
       "</div>"
      ],
      "text/plain": [
       "    lower bound  upper bound  window\n",
       "0            10           18       2\n",
       "1            20           36       2\n",
       "2            20           36       4\n",
       "3            38           70       2\n",
       "4            38           70       8\n",
       "5            72          136       3\n",
       "6            72          136      16\n",
       "7           139          267       3\n",
       "8           139          267      32\n",
       "9           269          525       3\n",
       "10          269          525      64\n",
       "11          528         1040       4\n",
       "12          528         1040     128"
      ]
     },
     "execution_count": 116,
     "metadata": {},
     "output_type": "execute_result"
    }
   ],
   "source": [
    "pd.read_excel(\"T_PRIL.xlsx\", names=['lower bound', 'upper bound', 'window'])"
   ]
  },
  {
   "cell_type": "code",
   "execution_count": 117,
   "id": "d512dfca",
   "metadata": {},
   "outputs": [],
   "source": [
    "def findPPIs(buffer, pathToPrilFile='T_PRIL.xlsx'):\n",
    "    \n",
    "    ppis = list()\n",
    "    \n",
    "    PRIL = pd.read_excel(pathToPrilFile, names=['lower bound', 'upper bound', 'window'])    \n",
    "\n",
    "    for index, row in PRIL.iterrows():\n",
    "        lowerBoundWindow = row['lower bound']\n",
    "        upperBoundWindow = row['upper bound']\n",
    "        windowWidth = row['window']\n",
    "\n",
    "        for i in range(len(buffer)):\n",
    "            for j in range(len(buffer)):\n",
    "                if i >= j:\n",
    "                    continue\n",
    "\n",
    "                ppi = buffer[j] - buffer[i]\n",
    "\n",
    "                if ppi > upperBoundWindow + windowWidth:\n",
    "                    break\n",
    "\n",
    "\n",
    "                if (ppi >= lowerBoundWindow + windowWidth) and (ppi< upperBoundWindow + windowWidth):\n",
    "                    ppis.append((i, j, windowWidth, ppi, (lowerBoundWindow, upperBoundWindow)))\n",
    "                    \n",
    "    ppis = sorted(ppis, key=lambda ppiRecord: ppiRecord[3])\n",
    "                    \n",
    "    return ppis"
   ]
  },
  {
   "cell_type": "code",
   "execution_count": 118,
   "id": "6774d2b5",
   "metadata": {},
   "outputs": [],
   "source": [
    "def dropRepeatTuple(tuplas):\n",
    "    observed = set()\n",
    "    result = []\n",
    "\n",
    "    for tupla in tuplas:\n",
    "        key = (tupla[0], tupla[1])\n",
    "        if key not in observed:\n",
    "            observed.add(key)\n",
    "            result.append(tupla)\n",
    "    \n",
    "    return result"
   ]
  },
  {
   "cell_type": "code",
   "execution_count": 119,
   "id": "c3ba8073",
   "metadata": {},
   "outputs": [],
   "source": [
    "def findPRIs(PPIs):\n",
    "    \n",
    "    PRIs = dict()\n",
    "    candidatesPRIList = list()\n",
    "\n",
    "    for index in range(len(PPIs)-1):\n",
    "\n",
    "        if len(candidatesPRIList) == 0:\n",
    "            candidatesPRIList.append(PPIs[index])\n",
    "            \n",
    "            \n",
    "        _sumPPIs = sum([candidatePRIList[3] for candidatePRIList in candidatesPRIList])\n",
    "        meanPPI = _sumPPIs/len(candidatesPRIList)\n",
    "        diffPPI = abs(meanPPI - PPIs[index+1][3])\n",
    "        \n",
    "        if diffPPI <= stableWindowWidth:\n",
    "#         if diffPPI <= PPIs[index][2]: # windowWidth\n",
    "            candidatesPRIList.append(PPIs[index+1])\n",
    "\n",
    "        else:\n",
    "            candidatesPRIList = dropRepeatTuple(candidatesPRIList)\n",
    "            candidatesPRIList = sorted(candidatesPRIList, key=lambda priRecord: priRecord[0])\n",
    "            PRIs[round(meanPPI)] = candidatesPRIList.copy()\n",
    "            candidatesPRIList = list() \n",
    "\n",
    "    candidatesPRIList = dropRepeatTuple(candidatesPRIList)\n",
    "    candidatesPRIList = sorted(candidatesPRIList, key=lambda priRecord: priRecord[0])\n",
    "    PRIs[round(meanPPI)] = candidatesPRIList.copy()\n",
    "    \n",
    "    PRIs = {key: value for key, value in PRIs.items() if len(value) >= 4}\n",
    "    \n",
    "    return PRIs"
   ]
  },
  {
   "cell_type": "code",
   "execution_count": 120,
   "id": "454ed21c",
   "metadata": {},
   "outputs": [],
   "source": [
    "def findLargestSequence(tuplas, atual=None):\n",
    "    if atual is None:\n",
    "        atual = []\n",
    "\n",
    "    if not any(t for t in tuplas if (not atual or t[0] == atual[-1][1])):\n",
    "        return atual\n",
    "\n",
    "    sequencias = [atual]\n",
    "\n",
    "    for t in tuplas:\n",
    "        if not atual or t[0] == atual[-1][1]:\n",
    "            nova_sequencia = findLargestSequence(tuplas, atual + [t])\n",
    "            if len(nova_sequencia) > len(sequencias[0]):\n",
    "                sequencias[0] = nova_sequencia\n",
    "\n",
    "    return sequencias[0]"
   ]
  },
  {
   "cell_type": "code",
   "execution_count": 148,
   "id": "1501c6c4",
   "metadata": {},
   "outputs": [],
   "source": [
    "def multipleFilterPRI(PRIs):\n",
    "                \n",
    "    keysOrdenated = sorted(PRIs.keys())\n",
    "    keysToRemove = set()\n",
    "    result = dict()\n",
    "    \n",
    "    for index, key in enumerate(keysOrdenated):\n",
    "        for j in range(index):\n",
    "            smallerKey = keysOrdenated[j]\n",
    "            if key % smallerKey < stableWindowWidth:\n",
    "                keysToRemove.add(key)\n",
    "                break\n",
    "\n",
    "    for key in keysToRemove:\n",
    "        del PRIs[key]\n",
    "        \n",
    "\n",
    "    for key, tuplas in PRIs.items():\n",
    "        result[key] = findLargestSequence(tuplas).copy()\n",
    "\n",
    "    result = {key: value for key, value in result.items() if len(value) >= 4}\n",
    "\n",
    "    return result"
   ]
  },
  {
   "cell_type": "code",
   "execution_count": 149,
   "id": "f43101c2",
   "metadata": {},
   "outputs": [],
   "source": [
    "def printPRIs(buffer, PRIs, quantSignal = 30):\n",
    "    for key, tuplas in PRIs.items():\n",
    "        \n",
    "        selectedSignalsTuple = set()\n",
    "        \n",
    "        for tupla in tuplas:\n",
    "            selectedSignalsTuple.add(buffer[tupla[0]])\n",
    "            selectedSignalsTuple.add(buffer[tupla[1]])\n",
    "            \n",
    "        signals = list(selectedSignalsTuple)\n",
    "        plot_grafico(buffer[:quantSignal], signals, key)    "
   ]
  },
  {
   "cell_type": "markdown",
   "id": "66e38627",
   "metadata": {},
   "source": [
    "# Use Case"
   ]
  },
  {
   "cell_type": "markdown",
   "id": "2ca896fc",
   "metadata": {},
   "source": [
    "## Buffer"
   ]
  },
  {
   "cell_type": "code",
   "execution_count": 150,
   "id": "c77e9b27",
   "metadata": {},
   "outputs": [],
   "source": [
    "stables = [[15, 130, 1, 2000], [60, 80, 1, 2000]] # [[15, 50, 1, 10000], [25, 75, 1, 10000]] # [[fisrtSignal, pri, variance = 1, thresholdBuffer = 10000]]\n",
    "staggers = [] # [[fisrtSignal, pris, variance = 1, thresholdBuffer = 10000]]\n",
    "jitters = [] # = [[], []]  # [[fisrtSignal, pri, jitter, variance = 1, thresholdBuffer = 10000]]"
   ]
  },
  {
   "cell_type": "code",
   "execution_count": 151,
   "id": "1be8efec",
   "metadata": {},
   "outputs": [],
   "source": [
    "buffer, info = buildBuffer(stables, staggers, jitters)"
   ]
  },
  {
   "cell_type": "code",
   "execution_count": 152,
   "id": "0e82f146",
   "metadata": {},
   "outputs": [
    {
     "data": {
      "image/png": "[encoded data removed]",
      "text/plain": [
       "<Figure size 1500x200 with 1 Axes>"
      ]
     },
     "metadata": {},
     "output_type": "display_data"
    }
   ],
   "source": [
    "plot_grafico(buffer[:25], [])"
   ]
  },
  {
   "cell_type": "code",
   "execution_count": 153,
   "id": "374a94cd",
   "metadata": {},
   "outputs": [],
   "source": [
    "PPIs = findPPIs(buffer)"
   ]
  },
  {
   "cell_type": "code",
   "execution_count": 154,
   "id": "11c9ea81",
   "metadata": {},
   "outputs": [],
   "source": [
    "candidatePRIs = findPRIs(PPIs)"
   ]
  },
  {
   "cell_type": "code",
   "execution_count": 155,
   "id": "78b7f43a",
   "metadata": {},
   "outputs": [],
   "source": [
    "PRIs = multipleFilterPRI(candidatePRIs)"
   ]
  },
  {
   "cell_type": "code",
   "execution_count": 158,
   "id": "8d586800",
   "metadata": {
    "scrolled": false
   },
   "outputs": [
    {
     "data": {
      "image/png": "[encoded data removed]",
      "text/plain": [
       "<Figure size 1500x200 with 1 Axes>"
      ]
     },
     "metadata": {},
     "output_type": "display_data"
    },
    {
     "data": {
      "image/png": "[encoded data removed]",
      "text/plain": [
       "<Figure size 1500x200 with 1 Axes>"
      ]
     },
     "metadata": {},
     "output_type": "display_data"
    }
   ],
   "source": [
    "printPRIs(buffer, PRIs, 25)"
   ]
  }
 ],
 "metadata": {
  "kernelspec": {
   "display_name": "Python 3 (ipykernel)",
   "language": "python",
   "name": "python3"
  },
  "language_info": {
   "codemirror_mode": {
    "name": "ipython",
    "version": 3
   },
   "file_extension": ".py",
   "mimetype": "text/x-python",
   "name": "python",
   "nbconvert_exporter": "python",
   "pygments_lexer": "ipython3",
   "version": "3.11.5"
  }
 },
 "nbformat": 4,
 "nbformat_minor": 5
}
