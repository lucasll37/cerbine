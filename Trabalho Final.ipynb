{
 "cells": [
  {
   "cell_type": "code",
   "execution_count": 1,
   "id": "0993d562",
   "metadata": {},
   "outputs": [],
   "source": [
    "import numpy as np\n",
    "import pandas as pd\n",
    "import random"
   ]
  },
  {
   "cell_type": "markdown",
   "id": "daefda3d",
   "metadata": {},
   "source": [
    "# Generator"
   ]
  },
  {
   "cell_type": "code",
   "execution_count": 2,
   "id": "cec4f1c8",
   "metadata": {},
   "outputs": [],
   "source": [
    "def buildStableSignal(fisrtSignal, pri, variance = 1, thresholdBuffer = 10000):\n",
    "    buffer = list()\n",
    "    newPulse = fisrtSignal\n",
    "    count = 0\n",
    "    \n",
    "    while newPulse < thresholdBuffer:\n",
    "        buffer.append(newPulse)\n",
    "        count += 1\n",
    "        newPulse = fisrtSignal + count * pri\n",
    "                \n",
    "    deviationBuffer = np.random.normal(0, 1, len(buffer)) * variance\n",
    "    deviationBuffer[0] = 0\n",
    "    \n",
    "    info = (fisrtSignal, pri, deviationBuffer.std())\n",
    "    \n",
    "    deviationBuffer = [round(num) for num in deviationBuffer]\n",
    "    buffer = np.add(buffer, deviationBuffer).tolist()\n",
    "        \n",
    "    return buffer, info"
   ]
  },
  {
   "cell_type": "code",
   "execution_count": 3,
   "id": "4e1187f4",
   "metadata": {},
   "outputs": [],
   "source": [
    "# Use case \n",
    "# stableSignalBuffer, info = buildStableSignal(15, 30)"
   ]
  },
  {
   "cell_type": "code",
   "execution_count": 4,
   "id": "0698da41",
   "metadata": {},
   "outputs": [],
   "source": [
    "def buildStaggerSignal(fisrtSignal, pris, variance = 1, thresholdBuffer = 10000):\n",
    "    buffer = list()\n",
    "    newPulse = fisrtSignal\n",
    "    count = 0\n",
    "    \n",
    "    while newPulse < thresholdBuffer:\n",
    "        buffer.append(newPulse)\n",
    "        newPulse += pris[count%len(pris)]\n",
    "        count += 1\n",
    "        \n",
    "    deviationBuffer = np.random.normal(0, 1, len(buffer)) * variance\n",
    "    deviationBuffer[0] = 0\n",
    "    \n",
    "    info = (fisrtSignal, pris, deviationBuffer.std())\n",
    "    \n",
    "    deviationBuffer = [round(num) for num in deviationBuffer]\n",
    "        \n",
    "    return np.add(buffer, deviationBuffer).tolist(), info"
   ]
  },
  {
   "cell_type": "code",
   "execution_count": 5,
   "id": "10ac1bb2",
   "metadata": {},
   "outputs": [],
   "source": [
    "# Use case \n",
    "# staggerSignalBuffer, info = buildStaggerSignal(15, [30, 80])"
   ]
  },
  {
   "cell_type": "code",
   "execution_count": 6,
   "id": "8d949f57",
   "metadata": {},
   "outputs": [],
   "source": [
    "def buildJitterSignal(fisrtSignal, pri, jitter, variance = 1, thresholdBuffer = 10000):\n",
    "    buffer = list()\n",
    "    newPulse = fisrtSignal\n",
    "    count = 0\n",
    "    \n",
    "    while newPulse < thresholdBuffer:\n",
    "        buffer.append(newPulse)\n",
    "        count += 1\n",
    "        newPulse = fisrtSignal + count * pri\n",
    "                \n",
    "    deviationBuffer = np.random.normal(0, 1, len(buffer)) * variance\n",
    "    deviationBuffer[0] = 0\n",
    "    \n",
    "    jitterBuffer = np.random.uniform(-1, 1, len(buffer)) * (jitter/100) * pri\n",
    "    jitterBuffer[0] = 0\n",
    "    deviationAndJitterBuffer = np.add(deviationBuffer, jitterBuffer)\n",
    "    \n",
    "    info = (fisrtSignal, pri, deviationAndJitterBuffer.std())\n",
    "    \n",
    "    deviationAndJitterBuffer = [round(num) for num in deviationAndJitterBuffer]\n",
    "    buffer = np.add(buffer, deviationAndJitterBuffer).tolist()\n",
    "        \n",
    "    return buffer, info"
   ]
  },
  {
   "cell_type": "code",
   "execution_count": 7,
   "id": "33c790aa",
   "metadata": {},
   "outputs": [],
   "source": [
    "# Use case \n",
    "# jitterSignalBuffer, info = buildJitterSignal(50, 100, 8)"
   ]
  },
  {
   "cell_type": "code",
   "execution_count": 8,
   "id": "1b660c7f",
   "metadata": {},
   "outputs": [],
   "source": [
    "def buildBuffer(stables, staggers, jitters):\n",
    "    buffer = list()\n",
    "    info = dict()\n",
    "    \n",
    "    info['stable'] = list()\n",
    "    info['stagger'] = list()\n",
    "    info['jitter'] = list()\n",
    "    \n",
    "    for stable in stables:\n",
    "        tempBuffer, tempInfo = buildStableSignal(stable[0], stable[1], stable[2], stable[3]) ####\n",
    "        buffer.extend(tempBuffer)\n",
    "        info['stable'].append(tempInfo)\n",
    "        \n",
    "        \n",
    "    for stagger in staggers:\n",
    "        tempBuffer, tempInfo = buildStaggerSignal(stagger[0], stagger[1], stagger[2], stagger[3]) ####\n",
    "        buffer.extend(tempBuffer)\n",
    "        info['stagger'].append(tempInfo)\n",
    "    \n",
    "    for jitter in jitters:\n",
    "        tempBuffer, tempInfo = buildJitterSignal(jitter[0], jitter[1], jitter[2], jitter[3], jitter[4]) ####\n",
    "        buffer.extend(tempBuffer)\n",
    "        info['jitter'].append(tempInfo)\n",
    "    \n",
    "    \n",
    "    buffer.sort()\n",
    "    \n",
    "    return buffer, info"
   ]
  },
  {
   "cell_type": "code",
   "execution_count": 9,
   "id": "a4fa7295",
   "metadata": {},
   "outputs": [],
   "source": [
    "import matplotlib.pyplot as plt\n",
    "\n",
    "def plot_grafico(valores, barras_vermelhas=[], title='Signal'):\n",
    "    if isinstance(title, float):\n",
    "        title = f\"{title:.2f}\"\n",
    "    \n",
    "    plt.figure(figsize=(15, 2))\n",
    "    \n",
    "    # Definindo as cores de cada barra\n",
    "    cores = ['red' if val in barras_vermelhas else 'blue' for val in valores]\n",
    "    \n",
    "    altura_fixa = 5\n",
    "    plt.bar(valores, [altura_fixa] * len(valores), width=10, align='center', color=cores)\n",
    "    \n",
    "    plt.xticks(valores, rotation=90, fontsize=13)\n",
    "    plt.ylim(0, 10)\n",
    "    plt.yticks([])\n",
    "    plt.grid(False)\n",
    "    plt.tight_layout()\n",
    "    plt.title(title, fontsize=13)\n",
    "    plt.show()\n",
    "    plt.close()"
   ]
  },
  {
   "cell_type": "markdown",
   "id": "bf8256d4",
   "metadata": {},
   "source": [
    "# Solver"
   ]
  },
  {
   "cell_type": "markdown",
   "id": "cb6c21e2",
   "metadata": {},
   "source": [
    "## PRIL"
   ]
  },
  {
   "cell_type": "code",
   "execution_count": 31,
   "id": "fbd764f7",
   "metadata": {},
   "outputs": [
    {
     "data": {
      "text/html": [
       "<div>\n",
       "<style scoped>\n",
       "    .dataframe tbody tr th:only-of-type {\n",
       "        vertical-align: middle;\n",
       "    }\n",
       "\n",
       "    .dataframe tbody tr th {\n",
       "        vertical-align: top;\n",
       "    }\n",
       "\n",
       "    .dataframe thead th {\n",
       "        text-align: right;\n",
       "    }\n",
       "</style>\n",
       "<table border=\"1\" class=\"dataframe\">\n",
       "  <thead>\n",
       "    <tr style=\"text-align: right;\">\n",
       "      <th></th>\n",
       "      <th>lower bound</th>\n",
       "      <th>upper bound</th>\n",
       "      <th>window</th>\n",
       "    </tr>\n",
       "  </thead>\n",
       "  <tbody>\n",
       "    <tr>\n",
       "      <th>0</th>\n",
       "      <td>10</td>\n",
       "      <td>18</td>\n",
       "      <td>2</td>\n",
       "    </tr>\n",
       "    <tr>\n",
       "      <th>1</th>\n",
       "      <td>20</td>\n",
       "      <td>36</td>\n",
       "      <td>2</td>\n",
       "    </tr>\n",
       "    <tr>\n",
       "      <th>2</th>\n",
       "      <td>20</td>\n",
       "      <td>36</td>\n",
       "      <td>4</td>\n",
       "    </tr>\n",
       "    <tr>\n",
       "      <th>3</th>\n",
       "      <td>38</td>\n",
       "      <td>70</td>\n",
       "      <td>2</td>\n",
       "    </tr>\n",
       "    <tr>\n",
       "      <th>4</th>\n",
       "      <td>38</td>\n",
       "      <td>70</td>\n",
       "      <td>8</td>\n",
       "    </tr>\n",
       "    <tr>\n",
       "      <th>5</th>\n",
       "      <td>72</td>\n",
       "      <td>136</td>\n",
       "      <td>3</td>\n",
       "    </tr>\n",
       "    <tr>\n",
       "      <th>6</th>\n",
       "      <td>72</td>\n",
       "      <td>136</td>\n",
       "      <td>16</td>\n",
       "    </tr>\n",
       "    <tr>\n",
       "      <th>7</th>\n",
       "      <td>139</td>\n",
       "      <td>267</td>\n",
       "      <td>3</td>\n",
       "    </tr>\n",
       "    <tr>\n",
       "      <th>8</th>\n",
       "      <td>139</td>\n",
       "      <td>267</td>\n",
       "      <td>32</td>\n",
       "    </tr>\n",
       "    <tr>\n",
       "      <th>9</th>\n",
       "      <td>269</td>\n",
       "      <td>525</td>\n",
       "      <td>3</td>\n",
       "    </tr>\n",
       "    <tr>\n",
       "      <th>10</th>\n",
       "      <td>269</td>\n",
       "      <td>525</td>\n",
       "      <td>64</td>\n",
       "    </tr>\n",
       "    <tr>\n",
       "      <th>11</th>\n",
       "      <td>528</td>\n",
       "      <td>1040</td>\n",
       "      <td>4</td>\n",
       "    </tr>\n",
       "    <tr>\n",
       "      <th>12</th>\n",
       "      <td>528</td>\n",
       "      <td>1040</td>\n",
       "      <td>128</td>\n",
       "    </tr>\n",
       "  </tbody>\n",
       "</table>\n",
       "</div>"
      ],
      "text/plain": [
       "    lower bound  upper bound  window\n",
       "0            10           18       2\n",
       "1            20           36       2\n",
       "2            20           36       4\n",
       "3            38           70       2\n",
       "4            38           70       8\n",
       "5            72          136       3\n",
       "6            72          136      16\n",
       "7           139          267       3\n",
       "8           139          267      32\n",
       "9           269          525       3\n",
       "10          269          525      64\n",
       "11          528         1040       4\n",
       "12          528         1040     128"
      ]
     },
     "execution_count": 31,
     "metadata": {},
     "output_type": "execute_result"
    }
   ],
   "source": [
    "pd.read_excel(\"T_PRIL.xlsx\", names=['lower bound', 'upper bound', 'window'])"
   ]
  },
  {
   "cell_type": "code",
   "execution_count": 113,
   "id": "eb49442e",
   "metadata": {},
   "outputs": [],
   "source": [
    "def PRILApply(originalBuffer, pathToPrilFile='T_PRIL.xlsx'):\n",
    "    \n",
    "    buffer = originalBuffer.copy()\n",
    "    PRIL = pd.read_excel(\"T_PRIL.xlsx\", names=['lower bound', 'upper bound', 'window'])\n",
    "    \n",
    "    # Estabelecendo as variáveis para busca\n",
    "    indice_buffer = 0  # Índice do pulso atual para busca no buffer\n",
    "\n",
    "    # Inicializando variáveis vazias para trabalhar com elas no script\n",
    "    primeiros_PPI_possiveis = []\n",
    "    proximos_PPI_condizentes = []\n",
    "    ameacas_encontradas = []\n",
    "\n",
    "    qtd_pulsos_buffer = len(buffer)  # Número de pulsos no buffer\n",
    "\n",
    "    for index, row in PRIL.iterrows():\n",
    "\n",
    "        # Buffer menor que tamanho mínimo de busca\n",
    "        if qtd_pulsos_buffer < 5:\n",
    "            break\n",
    "\n",
    "        # Intervalo e janela da n-ésima linha do PRIL\n",
    "        lowerBoundWindow = row['lower bound']\n",
    "        upperBoundWindow = row['upper bound']\n",
    "        windowWidth = row['window']\n",
    "\n",
    "        # Buscas dentro de buffer com índice i como parâmetro\n",
    "        while indice_buffer <= (qtd_pulsos_buffer - 4):\n",
    "            # Varrendo buffer comparando ao PRIL\n",
    "            for j in range(indice_buffer, qtd_pulsos_buffer - 5):\n",
    "                # Seja esta a diferença PPI1 ...\n",
    "                Dif = buffer[j] - buffer[indice_buffer]\n",
    "                # PPI1 está no intervalo do PRIL?\n",
    "                if (lowerBoundWindow - windowWidth <= Dif <= upperBoundWindow + windowWidth):\n",
    "                    # Se sim, salve-a em um vetor com os TOAs\n",
    "                    primeiros_PPI_possiveis.append(Dif)\n",
    "                if Dif > upperBoundWindow + windowWidth:\n",
    "                    break\n",
    "            # Se for não vazio, foi achado ao menos um termo\n",
    "            if primeiros_PPI_possiveis:\n",
    "                # Tem-se em PPIS1 todos os TOAs possíveis desse intervalo\n",
    "                for p in range(len(primeiros_PPI_possiveis)):\n",
    "                    # Para cada TOA em PPIS1, buscar-se-á o subsequente em buffer\n",
    "                    for j in range(indice_buffer + 2, qtd_pulsos_buffer - 1):\n",
    "                        # Seja esta a diferença PPI2 ...\n",
    "                        Dif = buffer[j] - buffer[indice_buffer]\n",
    "                        # PPI2 está no mesmo intervalo de PPI1 novamente?\n",
    "                        if (2 * primeiros_PPI_possiveis[p] - windowWidth <= Dif <= 2 * primeiros_PPI_possiveis[p] + windowWidth):\n",
    "                            # Se sim, salve-a em um vetor com os TOAs\n",
    "                            proximos_PPI_condizentes.append(Dif - primeiros_PPI_possiveis[p])\n",
    "                        if Dif > 2 * primeiros_PPI_possiveis[p] + windowWidth:\n",
    "                            break\n",
    "                    # Se for não vazio, foi achado ao menos um novo termo\n",
    "                    if proximos_PPI_condizentes:\n",
    "                        # Tem-se em PPIS2 todos os TOAs possíveis novamente\n",
    "                        for q in range(len(proximos_PPI_condizentes)):\n",
    "                            # Inicializando variáveis contadoras\n",
    "                            contador = [0, 0, 0]\n",
    "                            PPI345 = [0, 0, 0]\n",
    "                            dev345 = [0, 0, 0]\n",
    "                            # Varrendo buffer para confirmação de PRI\n",
    "                            for r in range(3, 6):\n",
    "                                # Serão necessários 3 rounds de confirmação\n",
    "                                # Busca por todo o buffer em cada uma delas\n",
    "                                for j in range(indice_buffer + 3, qtd_pulsos_buffer):\n",
    "                                    Dif = buffer[j] - buffer[indice_buffer]\n",
    "                                    # Se dentro do intervalo e janela\n",
    "                                    # Utilizei Wdw*0.67 por conta da média\n",
    "                                    if ((r * np.mean([primeiros_PPI_possiveis[p], proximos_PPI_condizentes[q]]) - windowWidth <= Dif)\n",
    "                                        and (Dif <= (r * np.mean([primeiros_PPI_possiveis[p], proximos_PPI_condizentes[q]]) + windowWidth))):\n",
    "                                        # Vai salvar o k correspondente\n",
    "                                        contador[r - 3] += 1\n",
    "                                        # Salva a PPI da posição\n",
    "                                        PPI345[r - 3] = Dif / r\n",
    "                                        # Salva o deviation\n",
    "                                        dev345[r - 3] = abs(PPI345[r - 3] - np.mean([primeiros_PPI_possiveis[p], proximos_PPI_condizentes[q]]))\n",
    "                                    else:\n",
    "                                        # Quando maior que o intervalo + janela\n",
    "                                        if Dif > (r * np.mean([primeiros_PPI_possiveis[p], proximos_PPI_condizentes[q]]) + windowWidth):\n",
    "                                            # Interrompe o for do buffer\n",
    "                                            break\n",
    "                                # Se a primeira confirmação não der resultado\n",
    "                                if contador[0] == 0:\n",
    "                                    # Interrompe a busca\n",
    "                                    break\n",
    "                            # Caso tenha ao menos 2 elementos de k != 0\n",
    "                            if sum(np.array(contador) != 0) >= 2:\n",
    "                                PRI = [primeiros_PPI_possiveis[p], proximos_PPI_condizentes[q]] + PPI345\n",
    "                                PRIMean = np.mean([x for x in PRI if x != 0])\n",
    "\n",
    "                                DEV = [(proximos_PPI_condizentes[q] - primeiros_PPI_possiveis[p])] + dev345\n",
    "                                TREM = [buffer[indice_buffer], np.mean([x for x in PRI if x != 0]), np.std([x for x in DEV if x != 0])]\n",
    "                                ameacas_encontradas.append(TREM)\n",
    "                                if len(ameacas_encontradas) > 1:\n",
    "                                    # Encontrar índices de PRIs múltiplos\n",
    "                                    minimo_ameaca = min([x[1] for x in ameacas_encontradas if x != 0])\n",
    "                                    maxMultiplo_PRI = TREM[1] / minimo_ameaca\n",
    "                                    #maxMultiplo_PRI = TREM[1] / min([x for x in ameacas_encontradas if x != 0], key=lambda x: x[1])\n",
    "                                    indice_PRI_Multiplos = []\n",
    "                                    for i in range(1, int(maxMultiplo_PRI) + 1):\n",
    "                                        multiploAtual = TREM[1] / i\n",
    "                                        indice_PRI_Multiplos = [x for x in indice_PRI_Multiplos if abs(ameacas_encontradas[x][1] - multiploAtual) <= windowWidth]\n",
    "                                    indice_PRI_Multiplos = [x for x in indice_PRI_Multiplos if x != len(ameacas_encontradas)]\n",
    "                                    if indice_PRI_Multiplos:\n",
    "                                        # Remover as linhas correspondentes das ameaças\n",
    "                                        ameacas_encontradas.pop()\n",
    "                                # Apagar TOAs congruentes\n",
    "                                # Poderia-se definir uma tolerância de X%\n",
    "                                # Zerando os valores em buffer que são próximos o suficiente de TREM\n",
    "                                indexador = 0\n",
    "                                while (TREM[0] + indexador * np.mean([x for x in PRI if x != 0])) <= max(buffer):\n",
    "                                    # Calculando a Diferença entre os termos e os elementos de buffer\n",
    "                                    Dif = np.abs(np.array(buffer) - (TREM[0] + indexador * np.mean([x for x in PRI if x != 0])))\n",
    "                                    # Encontrando os índices dos elementos de dentro de (windowWidth*0.34)\n",
    "                                    Ind = np.where(Dif <= windowWidth)[0]\n",
    "                                    # Remove os elementos encontrados de buffer\n",
    "                                    #plot_grafico([buffer[i] for i in Ind]) ########\n",
    "                                    buffer = [x for i, x in enumerate(buffer) if i not in Ind]\n",
    "                                    indexador += 1\n",
    "                                # PRI ok, Salvo e Apagado!\n",
    "                                qtd_pulsos_buffer = len(buffer)\n",
    "                                # Novo tamanho de buffer\n",
    "                                indice_buffer = 0\n",
    "                                # Voltando ao i=1 porque apaguei o mesmo\n",
    "                            # Caso confirmação falhar\n",
    "                        # Caso confirmação falhar\n",
    "                    # Acabada a busca dos PPIs condizentes\n",
    "                    proximos_PPI_condizentes = []\n",
    "                    PPI345 = [0, 0, 0]\n",
    "                    dev345 = [0, 0, 0]\n",
    "                # Caso PPIs condizentes vazio\n",
    "                # Caso PPIs condizentes vazio\n",
    "                primeiros_PPI_possiveis = []\n",
    "                proximos_PPI_condizentes = []\n",
    "                PPI345 = [0, 0, 0]\n",
    "                dev345 = [0, 0, 0]\n",
    "            # Caso PPIs possiveis vazio\n",
    "            indice_buffer += 1\n",
    "        # Caso em que terminaram as buscas para essa linha do PRIL\n",
    "        indice_buffer = 0\n",
    "\n",
    "    # Caso em que não há mais n para buscar no PRIL\n",
    "#     for ameaca in ameacas_encontradas:\n",
    "#         print(ameaca)\n",
    "    return ameacas_encontradas\n"
   ]
  },
  {
   "cell_type": "markdown",
   "id": "66e38627",
   "metadata": {},
   "source": [
    "# Use Case"
   ]
  },
  {
   "cell_type": "markdown",
   "id": "2ca896fc",
   "metadata": {},
   "source": [
    "## Buffer"
   ]
  },
  {
   "cell_type": "code",
   "execution_count": 125,
   "id": "c77e9b27",
   "metadata": {},
   "outputs": [],
   "source": [
    "stables = [[15, 50, 1, 10000]] # [[15, 50, 1, 10000], [25, 75, 1, 10000]] # [[fisrtSignal, pri, variance = 1, thresholdBuffer = 10000]]\n",
    "staggers = [] # [[fisrtSignal, pris, variance = 1, thresholdBuffer = 10000]]\n",
    "jitters = [] # = [[], []]  # [[fisrtSignal, pri, jitter, variance = 1, thresholdBuffer = 10000]]"
   ]
  },
  {
   "cell_type": "code",
   "execution_count": 126,
   "id": "1be8efec",
   "metadata": {},
   "outputs": [],
   "source": [
    "buffer, info = buildBuffer(stables, staggers, jitters)"
   ]
  },
  {
   "cell_type": "code",
   "execution_count": 127,
   "id": "0e82f146",
   "metadata": {},
   "outputs": [
    {
     "data": {
      "image/png": "[encoded data removed]",
      "text/plain": [
       "<Figure size 1500x200 with 1 Axes>"
      ]
     },
     "metadata": {},
     "output_type": "display_data"
    }
   ],
   "source": [
    "plot_grafico(buffer[:30], [20, 15, 110])"
   ]
  },
  {
   "cell_type": "code",
   "execution_count": 128,
   "id": "6308d2f4",
   "metadata": {
    "scrolled": false
   },
   "outputs": [],
   "source": [
    "threats = PRILApply(buffer)"
   ]
  },
  {
   "cell_type": "code",
   "execution_count": 129,
   "id": "049a21ad",
   "metadata": {},
   "outputs": [
    {
     "data": {
      "text/plain": [
       "[[516, 49.760000000000005, 0.25860201081971573],\n",
       " [1466, 49.208333333333336, 1.141257699120786],\n",
       " [1867, 49.05, 0.8999999999999986],\n",
       " [2165, 49.625, 0.75],\n",
       " [2567, 49.708333333333336, 0.6712803318663656],\n",
       " [3667, 49.020833333333336, 0.8060343404748277],\n",
       " [3915, 50.08, 0.8000000000000007],\n",
       " [5815, 50.0, 0.0],\n",
       " [15, 50.45666666666667, 0.5208666656000693],\n",
       " [1066, 348.6458333333333, 5.5787017826952345]]"
      ]
     },
     "execution_count": 129,
     "metadata": {},
     "output_type": "execute_result"
    }
   ],
   "source": [
    "threats"
   ]
  },
  {
   "cell_type": "code",
   "execution_count": 124,
   "id": "9e59686a",
   "metadata": {},
   "outputs": [
    {
     "data": {
      "text/plain": [
       "{'stable': [(15, 50, 0.9813312272735734)], 'stagger': [], 'jitter': []}"
      ]
     },
     "execution_count": 124,
     "metadata": {},
     "output_type": "execute_result"
    }
   ],
   "source": [
    "info"
   ]
  },
  {
   "cell_type": "code",
   "execution_count": 64,
   "id": "c1afde69",
   "metadata": {},
   "outputs": [
    {
     "data": {
      "text/plain": [
       "[(15, 50, 1.0319696505663165), (25, 75, 1.001821082855237)]"
      ]
     },
     "execution_count": 64,
     "metadata": {},
     "output_type": "execute_result"
    }
   ],
   "source": [
    "info['stable']"
   ]
  },
  {
   "cell_type": "code",
   "execution_count": 65,
   "id": "61bd52fd",
   "metadata": {},
   "outputs": [
    {
     "data": {
      "text/plain": [
       "[(20, [65, 105, 230], 1.054359276305735)]"
      ]
     },
     "execution_count": 65,
     "metadata": {},
     "output_type": "execute_result"
    }
   ],
   "source": [
    "info['stagger']"
   ]
  },
  {
   "cell_type": "code",
   "execution_count": 49,
   "id": "f6e526f8",
   "metadata": {},
   "outputs": [
    {
     "data": {
      "text/plain": [
       "[(110, 600, 50.24907496612409)]"
      ]
     },
     "execution_count": 49,
     "metadata": {},
     "output_type": "execute_result"
    }
   ],
   "source": [
    "info['jitter']"
   ]
  }
 ],
 "metadata": {
  "kernelspec": {
   "display_name": "Python 3 (ipykernel)",
   "language": "python",
   "name": "python3"
  },
  "language_info": {
   "codemirror_mode": {
    "name": "ipython",
    "version": 3
   },
   "file_extension": ".py",
   "mimetype": "text/x-python",
   "name": "python",
   "nbconvert_exporter": "python",
   "pygments_lexer": "ipython3",
   "version": "3.11.5"
  }
 },
 "nbformat": 4,
 "nbformat_minor": 5
}
